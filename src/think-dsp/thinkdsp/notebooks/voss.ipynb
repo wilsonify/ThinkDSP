{
 "cells": [
  {
   "cell_type": "markdown",
   "metadata": {},
   "source": [
    "## ThinkDSP\n",
    "\n",
    "This notebook contains an implementation of an algorithm to generate pink noise.\n",
    "\n",
    "Copyright 2015 Allen Downey\n",
    "\n",
    "License: [Creative Commons Attribution 4.0 International](http://creativecommons.org/licenses/by/4.0/)"
   ]
  },
  {
   "cell_type": "code",
   "execution_count": null,
   "metadata": {},
   "outputs": [],
   "source": [
    "# Get thinkdsp.py\n",
    "\n",
    "import os\n",
    "\n",
    "if not os.path.exists('thinkdsp.py'):\n",
    "    !wget https://github.com/AllenDowney/ThinkDSP/raw/master/code/thinkdsp.py"
   ]
  },
  {
   "cell_type": "code",
   "execution_count": 2,
   "metadata": {},
   "outputs": [],
   "source": [
    "import numpy as np\n",
    "import matplotlib.pyplot as plt\n",
    "\n",
    "from thinkdsp import decorate"
   ]
  },
  {
   "cell_type": "markdown",
   "metadata": {},
   "source": [
    "## Generating pink noise\n",
    "\n",
    "The Voss algorithm is described in this paper:\n",
    "\n",
    "Voss, R. F., & Clarke, J. (1978). \"1/f noise\" in music: Music from 1/f noise\". *Journal of the Acoustical Society of America* 63: 258–263. Bibcode:1978ASAJ...63..258V. doi:10.1121/1.381721.\n",
    "\n",
    "And presented by Martin Gardner in this *Scientific American* article:\n",
    "\n",
    "Gardner, M. (1978). \"Mathematical Games—White and brown music, fractal curves and one-over-f fluctuations\". *Scientific American* 238: 16–32.\n",
    "\n",
    "McCartney suggested an improvement here:\n",
    "\n",
    "http://www.firstpr.com.au/dsp/pink-noise/\n",
    "\n",
    "And Trammell proposed a stochastic version here:\n",
    "\n",
    "http://home.earthlink.net/~ltrammell/tech/pinkalg.htm"
   ]
  },
  {
   "cell_type": "markdown",
   "metadata": {},
   "source": [
    "The fundamental idea of this algorithm is to add up several sequences of random numbers that get updated at different rates.  The first source should get updated at every time step; the second source every other time step, the third source ever fourth step, and so on.\n",
    "\n",
    "In the original algorithm, the updates are evenly spaced.  In the stochastic version, they are randomly spaced.\n",
    "\n",
    "My implementation starts with an array with one row per timestep and one column for each of the white noise sources.  Initially, the first row and the first column are random and the rest of the array is Nan."
   ]
  },
  {
   "cell_type": "code",
   "execution_count": 31,
   "metadata": {
    "collapsed": false,
    "jupyter": {
     "outputs_hidden": false
    }
   },
   "outputs": [
    {
     "data": {
      "text/plain": [
       "array([[0.57860087, 0.08307124, 0.42265839, 0.59811563, 0.11750404],\n",
       "       [0.88739308,        nan,        nan,        nan,        nan],\n",
       "       [0.02397037,        nan,        nan,        nan,        nan],\n",
       "       [0.88304887,        nan,        nan,        nan,        nan],\n",
       "       [0.94614767,        nan,        nan,        nan,        nan],\n",
       "       [0.87177779,        nan,        nan,        nan,        nan]])"
      ]
     },
     "execution_count": 31,
     "metadata": {},
     "output_type": "execute_result"
    }
   ],
   "source": [
    "nrows = 100\n",
    "ncols = 5\n",
    "\n",
    "array = np.full((nrows, ncols), np.nan)\n",
    "array[0, :] = np.random.random(ncols)\n",
    "array[:, 0] = np.random.random(nrows)\n",
    "array[0:6]"
   ]
  },
  {
   "cell_type": "markdown",
   "metadata": {},
   "source": [
    "The next step is to choose the locations where the random sources change.  If the number of rows is $n$, the number of changes in the first column is $n$, the number in the second column is $n/2$ on average, the number in the third column is $n/4$ on average, etc.\n",
    "\n",
    "So the total number of changes in the matrix is $2n$ on average; since $n$ of those are in the first column, the other $n$ are in the rest of the matrix.\n",
    "\n",
    "To place the remaining $n$ changes, we generate random columns from a geometric distribution with $p=0.5$.  If we generate a value out of bounds, we set it to 0 (so the first column gets the extras)."
   ]
  },
  {
   "cell_type": "code",
   "execution_count": 32,
   "metadata": {
    "collapsed": false,
    "jupyter": {
     "outputs_hidden": false
    }
   },
   "outputs": [
    {
     "data": {
      "text/plain": [
       "array([3, 2, 1, 2, 1, 2, 1, 3, 2, 1, 2, 1, 2, 2, 1, 1, 1, 3, 2, 2, 1, 2,\n",
       "       2, 3, 0, 2, 1, 1, 1, 1, 2, 0, 1, 0, 1, 1, 1, 3, 3, 1, 3, 1, 2, 1,\n",
       "       1, 3, 4, 1, 0, 1, 1, 1, 1, 2, 3, 1, 1, 3, 2, 2, 1, 1, 1, 0, 3, 1,\n",
       "       4, 3, 1, 2, 1, 1, 3, 1, 1, 1, 1, 3, 4, 1, 1, 1, 0, 3, 1, 1, 1, 1,\n",
       "       1, 1, 1, 3, 3, 1, 1, 0, 3, 1, 1, 1])"
      ]
     },
     "execution_count": 32,
     "metadata": {},
     "output_type": "execute_result"
    }
   ],
   "source": [
    "p = 0.5\n",
    "n = nrows\n",
    "cols = np.random.geometric(p, n)\n",
    "cols[cols >= ncols] = 0\n",
    "cols"
   ]
  },
  {
   "cell_type": "markdown",
   "metadata": {},
   "source": [
    "Within each column, we choose a random row from a uniform distribution.  Ideally we would choose without replacement, but it is faster and easier to choose with replacement, and I doubt it matters."
   ]
  },
  {
   "cell_type": "code",
   "execution_count": 33,
   "metadata": {
    "collapsed": false,
    "jupyter": {
     "outputs_hidden": false
    }
   },
   "outputs": [
    {
     "data": {
      "text/plain": [
       "array([34, 68, 13, 35, 54, 15, 33, 20, 51, 73, 20, 21, 66, 21, 72, 74, 99,\n",
       "       26, 92, 70, 71, 43, 88,  6, 16, 89, 54, 51,  7, 10, 83, 62, 89,  3,\n",
       "       44, 19, 95, 40, 69, 57, 97, 62, 99,  5, 91,  3,  1, 42, 66, 17, 50,\n",
       "       16, 54, 70, 92, 12, 25, 13, 10,  9, 11, 47, 16, 21, 73, 71, 92, 66,\n",
       "       79, 96, 50, 18, 95, 89, 85, 82, 59, 48, 65, 95, 48, 40, 60, 64, 40,\n",
       "       68, 68, 77, 74, 84, 77, 19, 73, 99, 20, 61, 59, 68, 93, 40])"
      ]
     },
     "execution_count": 33,
     "metadata": {},
     "output_type": "execute_result"
    }
   ],
   "source": [
    "rows = np.random.randint(nrows, size=n)\n",
    "rows"
   ]
  },
  {
   "cell_type": "markdown",
   "metadata": {},
   "source": [
    "Now we can put random values at rach of the change points."
   ]
  },
  {
   "cell_type": "code",
   "execution_count": 34,
   "metadata": {
    "collapsed": false,
    "jupyter": {
     "outputs_hidden": false
    }
   },
   "outputs": [
    {
     "data": {
      "text/plain": [
       "array([[0.57860087, 0.08307124, 0.42265839, 0.59811563, 0.11750404],\n",
       "       [0.88739308,        nan,        nan,        nan, 0.39716012],\n",
       "       [0.02397037,        nan,        nan,        nan,        nan],\n",
       "       [0.42140748,        nan,        nan, 0.91534844,        nan],\n",
       "       [0.94614767,        nan,        nan,        nan,        nan],\n",
       "       [0.87177779, 0.35675871,        nan,        nan,        nan]])"
      ]
     },
     "execution_count": 34,
     "metadata": {},
     "output_type": "execute_result"
    }
   ],
   "source": [
    "array[rows, cols] = np.random.random(n)\n",
    "array[0:6]"
   ]
  },
  {
   "cell_type": "markdown",
   "metadata": {},
   "source": [
    "Next we want to do a zero-order hold to fill in the NaNs.  NumPy doesn't do that, but Pandas does.  So I'll create a DataFrame:"
   ]
  },
  {
   "cell_type": "code",
   "execution_count": 35,
   "metadata": {
    "collapsed": false,
    "jupyter": {
     "outputs_hidden": false
    }
   },
   "outputs": [
    {
     "data": {
      "text/html": [
       "<div>\n",
       "<style scoped>\n",
       "    .dataframe tbody tr th:only-of-type {\n",
       "        vertical-align: middle;\n",
       "    }\n",
       "\n",
       "    .dataframe tbody tr th {\n",
       "        vertical-align: top;\n",
       "    }\n",
       "\n",
       "    .dataframe thead th {\n",
       "        text-align: right;\n",
       "    }\n",
       "</style>\n",
       "<table border=\"1\" class=\"dataframe\">\n",
       "  <thead>\n",
       "    <tr style=\"text-align: right;\">\n",
       "      <th></th>\n",
       "      <th>0</th>\n",
       "      <th>1</th>\n",
       "      <th>2</th>\n",
       "      <th>3</th>\n",
       "      <th>4</th>\n",
       "    </tr>\n",
       "  </thead>\n",
       "  <tbody>\n",
       "    <tr>\n",
       "      <th>0</th>\n",
       "      <td>0.578601</td>\n",
       "      <td>0.083071</td>\n",
       "      <td>0.422658</td>\n",
       "      <td>0.598116</td>\n",
       "      <td>0.117504</td>\n",
       "    </tr>\n",
       "    <tr>\n",
       "      <th>1</th>\n",
       "      <td>0.887393</td>\n",
       "      <td>NaN</td>\n",
       "      <td>NaN</td>\n",
       "      <td>NaN</td>\n",
       "      <td>0.397160</td>\n",
       "    </tr>\n",
       "    <tr>\n",
       "      <th>2</th>\n",
       "      <td>0.023970</td>\n",
       "      <td>NaN</td>\n",
       "      <td>NaN</td>\n",
       "      <td>NaN</td>\n",
       "      <td>NaN</td>\n",
       "    </tr>\n",
       "    <tr>\n",
       "      <th>3</th>\n",
       "      <td>0.421407</td>\n",
       "      <td>NaN</td>\n",
       "      <td>NaN</td>\n",
       "      <td>0.915348</td>\n",
       "      <td>NaN</td>\n",
       "    </tr>\n",
       "    <tr>\n",
       "      <th>4</th>\n",
       "      <td>0.946148</td>\n",
       "      <td>NaN</td>\n",
       "      <td>NaN</td>\n",
       "      <td>NaN</td>\n",
       "      <td>NaN</td>\n",
       "    </tr>\n",
       "  </tbody>\n",
       "</table>\n",
       "</div>"
      ],
      "text/plain": [
       "          0         1         2         3         4\n",
       "0  0.578601  0.083071  0.422658  0.598116  0.117504\n",
       "1  0.887393       NaN       NaN       NaN  0.397160\n",
       "2  0.023970       NaN       NaN       NaN       NaN\n",
       "3  0.421407       NaN       NaN  0.915348       NaN\n",
       "4  0.946148       NaN       NaN       NaN       NaN"
      ]
     },
     "execution_count": 35,
     "metadata": {},
     "output_type": "execute_result"
    }
   ],
   "source": [
    "import pandas as pd\n",
    "\n",
    "df = pd.DataFrame(array)\n",
    "df.head()"
   ]
  },
  {
   "cell_type": "markdown",
   "metadata": {},
   "source": [
    "And then use `fillna` along the columns."
   ]
  },
  {
   "cell_type": "code",
   "execution_count": 36,
   "metadata": {
    "collapsed": false,
    "jupyter": {
     "outputs_hidden": false
    }
   },
   "outputs": [
    {
     "data": {
      "text/html": [
       "<div>\n",
       "<style scoped>\n",
       "    .dataframe tbody tr th:only-of-type {\n",
       "        vertical-align: middle;\n",
       "    }\n",
       "\n",
       "    .dataframe tbody tr th {\n",
       "        vertical-align: top;\n",
       "    }\n",
       "\n",
       "    .dataframe thead th {\n",
       "        text-align: right;\n",
       "    }\n",
       "</style>\n",
       "<table border=\"1\" class=\"dataframe\">\n",
       "  <thead>\n",
       "    <tr style=\"text-align: right;\">\n",
       "      <th></th>\n",
       "      <th>0</th>\n",
       "      <th>1</th>\n",
       "      <th>2</th>\n",
       "      <th>3</th>\n",
       "      <th>4</th>\n",
       "    </tr>\n",
       "  </thead>\n",
       "  <tbody>\n",
       "    <tr>\n",
       "      <th>0</th>\n",
       "      <td>0.578601</td>\n",
       "      <td>0.083071</td>\n",
       "      <td>0.422658</td>\n",
       "      <td>0.598116</td>\n",
       "      <td>0.117504</td>\n",
       "    </tr>\n",
       "    <tr>\n",
       "      <th>1</th>\n",
       "      <td>0.887393</td>\n",
       "      <td>0.083071</td>\n",
       "      <td>0.422658</td>\n",
       "      <td>0.598116</td>\n",
       "      <td>0.397160</td>\n",
       "    </tr>\n",
       "    <tr>\n",
       "      <th>2</th>\n",
       "      <td>0.023970</td>\n",
       "      <td>0.083071</td>\n",
       "      <td>0.422658</td>\n",
       "      <td>0.598116</td>\n",
       "      <td>0.397160</td>\n",
       "    </tr>\n",
       "    <tr>\n",
       "      <th>3</th>\n",
       "      <td>0.421407</td>\n",
       "      <td>0.083071</td>\n",
       "      <td>0.422658</td>\n",
       "      <td>0.915348</td>\n",
       "      <td>0.397160</td>\n",
       "    </tr>\n",
       "    <tr>\n",
       "      <th>4</th>\n",
       "      <td>0.946148</td>\n",
       "      <td>0.083071</td>\n",
       "      <td>0.422658</td>\n",
       "      <td>0.915348</td>\n",
       "      <td>0.397160</td>\n",
       "    </tr>\n",
       "  </tbody>\n",
       "</table>\n",
       "</div>"
      ],
      "text/plain": [
       "          0         1         2         3         4\n",
       "0  0.578601  0.083071  0.422658  0.598116  0.117504\n",
       "1  0.887393  0.083071  0.422658  0.598116  0.397160\n",
       "2  0.023970  0.083071  0.422658  0.598116  0.397160\n",
       "3  0.421407  0.083071  0.422658  0.915348  0.397160\n",
       "4  0.946148  0.083071  0.422658  0.915348  0.397160"
      ]
     },
     "execution_count": 36,
     "metadata": {},
     "output_type": "execute_result"
    }
   ],
   "source": [
    "filled = df.fillna(method='ffill', axis=0)\n",
    "filled.head()"
   ]
  },
  {
   "cell_type": "markdown",
   "metadata": {},
   "source": [
    "Finally we add up the rows."
   ]
  },
  {
   "cell_type": "code",
   "execution_count": 37,
   "metadata": {
    "collapsed": false,
    "jupyter": {
     "outputs_hidden": false
    }
   },
   "outputs": [
    {
     "data": {
      "text/plain": [
       "0    1.799950\n",
       "1    2.388398\n",
       "2    1.524976\n",
       "3    2.239646\n",
       "4    2.764386\n",
       "dtype: float64"
      ]
     },
     "execution_count": 37,
     "metadata": {},
     "output_type": "execute_result"
    }
   ],
   "source": [
    "total = filled.sum(axis=1)\n",
    "total.head()"
   ]
  },
  {
   "cell_type": "markdown",
   "metadata": {},
   "source": [
    "If we put the results into a Wave, here's what it looks like:"
   ]
  },
  {
   "cell_type": "code",
   "execution_count": 39,
   "metadata": {
    "collapsed": false,
    "jupyter": {
     "outputs_hidden": false
    }
   },
   "outputs": [
    {
     "data": {
      "image/png": "[encoded data removed]",
      "text/plain": [
       "<Figure size 432x288 with 1 Axes>"
      ]
     },
     "metadata": {
      "needs_background": "light"
     },
     "output_type": "display_data"
    }
   ],
   "source": [
    "from thinkdsp import Wave\n",
    "\n",
    "wave = Wave(total)\n",
    "wave.plot()"
   ]
  },
  {
   "cell_type": "markdown",
   "metadata": {},
   "source": [
    "Here's the whole process in a function:"
   ]
  },
  {
   "cell_type": "code",
   "execution_count": 40,
   "metadata": {},
   "outputs": [],
   "source": [
    "def voss(nrows, ncols=16):\n",
    "    \"\"\"Generates pink noise using the Voss-McCartney algorithm.\n",
    "    \n",
    "    nrows: number of values to generate\n",
    "    rcols: number of random sources to add\n",
    "    \n",
    "    returns: NumPy array\n",
    "    \"\"\"\n",
    "    array = np.full((nrows, ncols), np.nan)\n",
    "    array[0, :] = np.random.random(ncols)\n",
    "    array[:, 0] = np.random.random(nrows)\n",
    "    \n",
    "    # the total number of changes is nrows\n",
    "    n = nrows\n",
    "    cols = np.random.geometric(0.5, n)\n",
    "    cols[cols >= ncols] = 0\n",
    "    rows = np.random.randint(nrows, size=n)\n",
    "    array[rows, cols] = np.random.random(n)\n",
    "\n",
    "    df = pd.DataFrame(array)\n",
    "    df.fillna(method='ffill', axis=0, inplace=True)\n",
    "    total = df.sum(axis=1)\n",
    "\n",
    "    return total.values"
   ]
  },
  {
   "cell_type": "markdown",
   "metadata": {},
   "source": [
    "To test it I'll generate 11025 values:"
   ]
  },
  {
   "cell_type": "code",
   "execution_count": 41,
   "metadata": {
    "collapsed": false,
    "jupyter": {
     "outputs_hidden": false
    }
   },
   "outputs": [
    {
     "data": {
      "text/plain": [
       "array([7.15173107, 7.29397747, 6.06096927, ..., 8.28577774, 7.91418078,\n",
       "       8.13263103])"
      ]
     },
     "execution_count": 41,
     "metadata": {},
     "output_type": "execute_result"
    }
   ],
   "source": [
    "ys = voss(11025)\n",
    "ys"
   ]
  },
  {
   "cell_type": "markdown",
   "metadata": {},
   "source": [
    "And make them into a Wave:"
   ]
  },
  {
   "cell_type": "code",
   "execution_count": 42,
   "metadata": {
    "collapsed": false,
    "jupyter": {
     "outputs_hidden": false
    }
   },
   "outputs": [],
   "source": [
    "wave = Wave(ys)\n",
    "wave.unbias()\n",
    "wave.normalize()"
   ]
  },
  {
   "cell_type": "markdown",
   "metadata": {},
   "source": [
    "Here's what it looks like:"
   ]
  },
  {
   "cell_type": "code",
   "execution_count": 43,
   "metadata": {
    "collapsed": false,
    "jupyter": {
     "outputs_hidden": false
    }
   },
   "outputs": [
    {
     "data": {
      "image/png": "[encoded data removed]",
      "text/plain": [
       "<Figure size 432x288 with 1 Axes>"
      ]
     },
     "metadata": {
      "needs_background": "light"
     },
     "output_type": "display_data"
    }
   ],
   "source": [
    "wave.plot()\n",
    "decorate(xlabel='Time')"
   ]
  },
  {
   "cell_type": "markdown",
   "metadata": {},
   "source": [
    "As expected, it is more random-walk-like than white noise, but more random looking than red noise.\n",
    "\n",
    "Here's what it sounds like:"
   ]
  },
  {
   "cell_type": "code",
   "execution_count": 44,
   "metadata": {
    "collapsed": false,
    "jupyter": {
     "outputs_hidden": false
    }
   },
   "outputs": [
    {
     "data": {
      "text/html": [
       "\n",
       "                <audio  controls=\"controls\" >\n",
       "                    <source src=\"data:audio/wav;base64,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\" type=\"audio/wav\" />\n",
       "                    Your browser does not support the audio element.\n",
       "                </audio>\n",
       "              "
      ],
      "text/plain": [
       "<IPython.lib.display.Audio object>"
      ]
     },
     "execution_count": 44,
     "metadata": {},
     "output_type": "execute_result"
    }
   ],
   "source": [
    "wave.make_audio()"
   ]
  },
  {
   "cell_type": "markdown",
   "metadata": {},
   "source": [
    "And here's the power spectrum:"
   ]
  },
  {
   "cell_type": "code",
   "execution_count": 46,
   "metadata": {
    "collapsed": false,
    "jupyter": {
     "outputs_hidden": false
    }
   },
   "outputs": [
    {
     "data": {
      "image/png": "[encoded data removed]",
      "text/plain": [
       "<Figure size 432x288 with 1 Axes>"
      ]
     },
     "metadata": {
      "needs_background": "light"
     },
     "output_type": "display_data"
    }
   ],
   "source": [
    "spectrum = wave.make_spectrum()\n",
    "spectrum.hs[0] = 0\n",
    "spectrum.plot_power()\n",
    "decorate(xlabel='Frequency (Hz)',\n",
    "         xscale='log', \n",
    "         yscale='log')"
   ]
  },
  {
   "cell_type": "markdown",
   "metadata": {},
   "source": [
    "The estimated slope is close to -1."
   ]
  },
  {
   "cell_type": "code",
   "execution_count": 47,
   "metadata": {
    "collapsed": false,
    "jupyter": {
     "outputs_hidden": false
    }
   },
   "outputs": [
    {
     "data": {
      "text/plain": [
       "-1.0100527043087335"
      ]
     },
     "execution_count": 47,
     "metadata": {},
     "output_type": "execute_result"
    }
   ],
   "source": [
    "spectrum.estimate_slope().slope"
   ]
  },
  {
   "cell_type": "markdown",
   "metadata": {},
   "source": [
    "We can get a better sense of the average power spectrum by generating a longer sample:"
   ]
  },
  {
   "cell_type": "code",
   "execution_count": 48,
   "metadata": {
    "collapsed": false,
    "jupyter": {
     "outputs_hidden": false
    }
   },
   "outputs": [
    {
     "data": {
      "text/plain": [
       "6553600"
      ]
     },
     "execution_count": 48,
     "metadata": {},
     "output_type": "execute_result"
    }
   ],
   "source": [
    "seg_length = 64 * 1024\n",
    "iters = 100\n",
    "wave = Wave(voss(seg_length * iters))\n",
    "len(wave)"
   ]
  },
  {
   "cell_type": "markdown",
   "metadata": {},
   "source": [
    "And using Barlett's method to compute the average."
   ]
  },
  {
   "cell_type": "code",
   "execution_count": 49,
   "metadata": {},
   "outputs": [],
   "source": [
    "from thinkdsp import Spectrum\n",
    "\n",
    "def bartlett_method(wave, seg_length=512, win_flag=True):\n",
    "    \"\"\"Estimates the power spectrum of a noise wave.\n",
    "    \n",
    "    wave: Wave\n",
    "    seg_length: segment length\n",
    "    \"\"\"\n",
    "    # make a spectrogram and extract the spectrums\n",
    "    spectro = wave.make_spectrogram(seg_length, win_flag)\n",
    "    spectrums = spectro.spec_map.values()\n",
    "    \n",
    "    # extract the power array from each spectrum\n",
    "    psds = [spectrum.power for spectrum in spectrums]\n",
    "    \n",
    "    # compute the root mean power (which is like an amplitude)\n",
    "    hs = np.sqrt(sum(psds) / len(psds))\n",
    "    fs = next(iter(spectrums)).fs\n",
    "    \n",
    "    # make a Spectrum with the mean amplitudes\n",
    "    spectrum = Spectrum(hs, fs, wave.framerate)\n",
    "    return spectrum"
   ]
  },
  {
   "cell_type": "code",
   "execution_count": 50,
   "metadata": {
    "collapsed": false,
    "jupyter": {
     "outputs_hidden": false
    }
   },
   "outputs": [
    {
     "data": {
      "text/plain": [
       "32769"
      ]
     },
     "execution_count": 50,
     "metadata": {},
     "output_type": "execute_result"
    }
   ],
   "source": [
    "spectrum = bartlett_method(wave, seg_length=seg_length, win_flag=False)\n",
    "spectrum.hs[0] = 0\n",
    "len(spectrum)"
   ]
  },
  {
   "cell_type": "markdown",
   "metadata": {},
   "source": [
    "It's pretty close to a straight line, with some curvature at the highest frequencies."
   ]
  },
  {
   "cell_type": "code",
   "execution_count": 51,
   "metadata": {
    "collapsed": false,
    "jupyter": {
     "outputs_hidden": false
    }
   },
   "outputs": [
    {
     "data": {
      "image/png": "[encoded data removed]",
      "text/plain": [
       "<Figure size 432x288 with 1 Axes>"
      ]
     },
     "metadata": {
      "needs_background": "light"
     },
     "output_type": "display_data"
    }
   ],
   "source": [
    "spectrum.plot_power()\n",
    "decorate(xlabel='Frequency (Hz)',\n",
    "                 xscale='log', \n",
    "                 yscale='log')"
   ]
  },
  {
   "cell_type": "markdown",
   "metadata": {},
   "source": [
    "And the slope is close to -1."
   ]
  },
  {
   "cell_type": "code",
   "execution_count": 52,
   "metadata": {
    "collapsed": false,
    "jupyter": {
     "outputs_hidden": false
    }
   },
   "outputs": [
    {
     "data": {
      "text/plain": [
       "-1.0014059496815706"
      ]
     },
     "execution_count": 52,
     "metadata": {},
     "output_type": "execute_result"
    }
   ],
   "source": [
    "spectrum.estimate_slope().slope"
   ]
  },
  {
   "cell_type": "code",
   "execution_count": null,
   "metadata": {
    "collapsed": true,
    "jupyter": {
     "outputs_hidden": true
    }
   },
   "outputs": [],
   "source": []
  }
 ],
 "metadata": {
  "kernelspec": {
   "display_name": "Python 3",
   "language": "python",
   "name": "python3"
  },
  "language_info": {
   "codemirror_mode": {
    "name": "ipython",
    "version": 3
   },
   "file_extension": ".py",
   "mimetype": "text/x-python",
   "name": "python",
   "nbconvert_exporter": "python",
   "pygments_lexer": "ipython3",
   "version": "3.6.10"
  }
 },
 "nbformat": 4,
 "nbformat_minor": 4
}
